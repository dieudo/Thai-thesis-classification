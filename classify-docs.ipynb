{
 "cells": [
  {
   "cell_type": "code",
   "execution_count": 13,
   "metadata": {
    "collapsed": true
   },
   "outputs": [],
   "source": [
    "import numpy as np\n",
    "import os\n",
    "from os.path import join, isdir\n",
    "np.set_printoptions(suppress=True)"
   ]
  },
  {
   "cell_type": "markdown",
   "metadata": {},
   "source": [
    "# Load and classify documents\n",
    "**Load document labels**"
   ]
  },
  {
   "cell_type": "code",
   "execution_count": 9,
   "metadata": {
    "collapsed": false
   },
   "outputs": [
    {
     "name": "stdout",
     "output_type": "stream",
     "text": [
      "0 ประมง\n",
      "1 มนุษยศาสตร์\n",
      "2 วนศาสตร์\n",
      "3 วิทยาศาสตร์\n",
      "4 วิทยาศาสตร์การกีฬา\n",
      "5 วิศวกรรมศาสตร์ กำแพงแสน\n",
      "6 ศึกษาศาสตร์\n",
      "7 สังคมศาสตร์\n",
      "8 สัตวแพทยศาสตร์\n",
      "9 สิ่งแวดล้อม\n",
      "10 อุตสาหกรรมเกษตร\n",
      "11 เกษตร\n",
      "12 เกษตร กำแพงแสน\n",
      "13 เศรษฐศาสตร์\n",
      "14 โครงการสหวิทยาการระดับบัณฑิตศึกษา\n"
     ]
    }
   ],
   "source": [
    "segmented_path = u'./corpus/segmented-docs' # it will listdir into unicode\n",
    "doc_labels = [fn for fn in os.listdir(segmented_path) if isdir(join(segmented_path, fn))] # list only folders\n",
    "doc_labels_idx = {}\n",
    "for i, label in enumerate(doc_labels):\n",
    "    print i, label\n",
    "    doc_labels_idx[label] = i"
   ]
  },
  {
   "cell_type": "markdown",
   "metadata": {},
   "source": [
    "** Load dataset **"
   ]
  },
  {
   "cell_type": "code",
   "execution_count": 16,
   "metadata": {
    "collapsed": false
   },
   "outputs": [
    {
     "name": "stdout",
     "output_type": "stream",
     "text": [
      "Total Segmented Documents: 46\n",
      "Wall time: 216 ms\n"
     ]
    }
   ],
   "source": [
    "%%time\n",
    "dataset_contents, dataset_labels = [], []\n",
    "for i, label in enumerate(doc_labels):\n",
    "    curr_dir = join(segmented_path, label)\n",
    "    fns = os.listdir(curr_dir)\n",
    "    for fn in fns:\n",
    "        file_path = join(curr_dir, fn)\n",
    "        with open(file_path, 'r') as f:\n",
    "            content = unicode(f.read(), 'utf8')\n",
    "            dataset_contents.append(content)\n",
    "            dataset_labels.append(i)\n",
    "print 'Total Segmented Documents:', len(dataset_contents)"
   ]
  },
  {
   "cell_type": "markdown",
   "metadata": {},
   "source": [
    "**Show sample content**"
   ]
  },
  {
   "cell_type": "code",
   "execution_count": 17,
   "metadata": {
    "collapsed": false
   },
   "outputs": [
    {
     "name": "stdout",
     "output_type": "stream",
     "text": [
      "I|49620305|Ipage| |I|วิทยานิพนธ์|P|การศึกษา|คุณลักษณะ| |complementary| |dnas| |cdnas| |และ|การแสดงออก|ของ|ยีน| |antilipopolysaccharide| |factors| |ใน|กุ้งก้ามกราม| |macrobrachium| |rosenbergii| |de| |manPmolecular| |characterization| |of| |complementary| |\n"
     ]
    }
   ],
   "source": [
    "print dataset_contents[1][:2**8]"
   ]
  },
  {
   "cell_type": "markdown",
   "metadata": {},
   "source": [
    "** Trim text and replace all PIPELINE by space **"
   ]
  }
 ],
 "metadata": {
  "kernelspec": {
   "display_name": "Python 2",
   "language": "python",
   "name": "python2"
  },
  "language_info": {
   "codemirror_mode": {
    "name": "ipython",
    "version": 2
   },
   "file_extension": ".py",
   "mimetype": "text/x-python",
   "name": "python",
   "nbconvert_exporter": "python",
   "pygments_lexer": "ipython2",
   "version": "2.7.11"
  }
 },
 "nbformat": 4,
 "nbformat_minor": 0
}
