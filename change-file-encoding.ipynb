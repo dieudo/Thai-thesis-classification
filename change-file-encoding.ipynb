{
 "cells": [
  {
   "cell_type": "markdown",
   "metadata": {},
   "source": [
    "# Convert all documents from Thai to UTF-8"
   ]
  },
  {
   "cell_type": "code",
   "execution_count": 1,
   "metadata": {
    "collapsed": true
   },
   "outputs": [],
   "source": [
    "import os, re\n",
    "from os.path import isdir, join, exists, abspath"
   ]
  },
  {
   "cell_type": "code",
   "execution_count": 16,
   "metadata": {
    "collapsed": false
   },
   "outputs": [],
   "source": [
    "raw_path = u'./corpus/raw-docs'\n",
    "reader_codec = 'thai'\n",
    "writer_codec = 'utf8'"
   ]
  },
  {
   "cell_type": "markdown",
   "metadata": {},
   "source": [
    "## Please do backup of the files before doing the next step"
   ]
  },
  {
   "cell_type": "code",
   "execution_count": 13,
   "metadata": {
    "collapsed": false
   },
   "outputs": [
    {
     "name": "stdout",
     "output_type": "stream",
     "text": [
      "./corpus/raw-docs\\ประมง\\45820156.txt\n",
      "./corpus/raw-docs\\ประมง\\49620305.txt\n",
      "./corpus/raw-docs\\มนุษยศาสตร์\\48710974.txt\n",
      "./corpus/raw-docs\\วนศาสตร์\\47630751.txt\n",
      "./corpus/raw-docs\\วนศาสตร์\\49630437.txt\n",
      "./corpus/raw-docs\\วิทยาศาสตร์\\44640829.txt\n",
      "./corpus/raw-docs\\วิทยาศาสตร์\\47640974.txt\n",
      "./corpus/raw-docs\\วิทยาศาสตร์\\48640148.txt\n",
      "./corpus/raw-docs\\วิทยาศาสตร์\\48640239.txt\n",
      "./corpus/raw-docs\\วิทยาศาสตร์\\48641484.txt\n",
      "./corpus/raw-docs\\วิทยาศาสตร์\\48641971.txt\n",
      "./corpus/raw-docs\\วิทยาศาสตร์\\48642078.txt\n",
      "./corpus/raw-docs\\วิทยาศาสตร์\\49640089.txt\n",
      "./corpus/raw-docs\\วิทยาศาสตร์การกีฬา\\47662143.txt\n",
      "./corpus/raw-docs\\วิทยาศาสตร์การกีฬา\\48661128.txt\n",
      "./corpus/raw-docs\\วิทยาศาสตร์การกีฬา\\48663827.txt\n",
      "./corpus/raw-docs\\วิศวกรรมศาสตร์ กำแพงแสน\\45651585.txt\n",
      "./corpus/raw-docs\\ศึกษาศาสตร์\\45662079.txt\n",
      "./corpus/raw-docs\\สังคมศาสตร์\\48680144.txt\n",
      "./corpus/raw-docs\\สัตวแพทยศาสตร์\\48720023.txt\n",
      "./corpus/raw-docs\\สิ่งแวดล้อม\\48760011.txt\n",
      "./corpus/raw-docs\\สิ่งแวดล้อม\\49641699.txt\n",
      "./corpus/raw-docs\\อุตสาหกรรมเกษตร\\47700299.txt\n",
      "./corpus/raw-docs\\อุตสาหกรรมเกษตร\\47700810.txt\n",
      "./corpus/raw-docs\\อุตสาหกรรมเกษตร\\47701610.txt\n",
      "./corpus/raw-docs\\อุตสาหกรรมเกษตร\\48700660.txt\n",
      "./corpus/raw-docs\\อุตสาหกรรมเกษตร\\48700686.txt\n",
      "./corpus/raw-docs\\อุตสาหกรรมเกษตร\\49700842.txt\n",
      "./corpus/raw-docs\\เกษตร\\47610050.txt\n",
      "./corpus/raw-docs\\เกษตร\\48612295.txt\n",
      "./corpus/raw-docs\\เกษตร\\48810485.txt\n",
      "./corpus/raw-docs\\เกษตร\\49613151.txt\n",
      "./corpus/raw-docs\\เกษตร\\49613581.txt\n",
      "./corpus/raw-docs\\เกษตร กำแพงแสน\\43810472.txt\n",
      "./corpus/raw-docs\\เกษตร กำแพงแสน\\46612115.txt\n",
      "./corpus/raw-docs\\เกษตร กำแพงแสน\\48610638.txt\n",
      "./corpus/raw-docs\\เกษตร กำแพงแสน\\48610810.txt\n",
      "./corpus/raw-docs\\เกษตร กำแพงแสน\\48810147.txt\n",
      "./corpus/raw-docs\\เกษตร กำแพงแสน\\49611882.txt\n",
      "./corpus/raw-docs\\เกษตร กำแพงแสน\\49612039.txt\n",
      "./corpus/raw-docs\\เศรษฐศาสตร์\\48671838.txt\n",
      "./corpus/raw-docs\\เศรษฐศาสตร์\\48673792.txt\n",
      "./corpus/raw-docs\\เศรษฐศาสตร์\\48690150.txt\n",
      "./corpus/raw-docs\\โครงการสหวิทยาการระดับบัณฑิตศึกษา\\45900628.txt\n",
      "./corpus/raw-docs\\โครงการสหวิทยาการระดับบัณฑิตศึกษา\\47690599.txt\n",
      "./corpus/raw-docs\\โครงการสหวิทยาการระดับบัณฑิตศึกษา\\47691357.txt\n"
     ]
    }
   ],
   "source": [
    "for root, dirs, files in os.walk(raw_path):\n",
    "    for name in files:\n",
    "        file_path = join(root, name)\n",
    "        print file_path\n",
    "        with open(file_path, 'r') as f:\n",
    "            content = f.read().decode(reader_codec)\n",
    "        with open(file_path, 'w') as f:\n",
    "            f.write(content.encode(writer_codec))"
   ]
  }
 ],
 "metadata": {
  "kernelspec": {
   "display_name": "Python 2",
   "language": "python",
   "name": "python2"
  },
  "language_info": {
   "codemirror_mode": {
    "name": "ipython",
    "version": 2
   },
   "file_extension": ".py",
   "mimetype": "text/x-python",
   "name": "python",
   "nbconvert_exporter": "python",
   "pygments_lexer": "ipython2",
   "version": "2.7.11"
  }
 },
 "nbformat": 4,
 "nbformat_minor": 0
}
