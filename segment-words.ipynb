{
 "cells": [
  {
   "cell_type": "code",
   "execution_count": 146,
   "metadata": {
    "collapsed": false
   },
   "outputs": [],
   "source": [
    "import os\n",
    "from os.path import isdir, join"
   ]
  },
  {
   "cell_type": "markdown",
   "metadata": {},
   "source": [
    "# Load documents and scrutinize unwanted punctuations"
   ]
  },
  {
   "cell_type": "code",
   "execution_count": 258,
   "metadata": {
    "collapsed": false,
    "scrolled": true
   },
   "outputs": [
    {
     "name": "stdout",
     "output_type": "stream",
     "text": [
      "Showing one sample document label\n",
      "Unicode codepoints representation: u'\\u0e1b\\u0e23\\u0e30\\u0e21\\u0e07' :: <type 'unicode'>\n",
      "The actual glyph (appearance): ประมง\n"
     ]
    }
   ],
   "source": [
    "raw_path = u'./corpus/raw-docs' # it will listdir into unicode\n",
    "doc_labels = [fn for fn in os.listdir(raw_path) if isdir(join(raw_path, fn))] # accept only folders\n",
    "print 'Showing one sample document label'\n",
    "print 'Unicode codepoints representation:', repr(doc_labels[0]), '::', type(doc_labels[0])\n",
    "print 'The actual glyph (appearance):', doc_labels[0]"
   ]
  },
  {
   "cell_type": "markdown",
   "metadata": {},
   "source": [
    "**Show all document labels**"
   ]
  },
  {
   "cell_type": "code",
   "execution_count": 282,
   "metadata": {
    "collapsed": false
   },
   "outputs": [
    {
     "name": "stdout",
     "output_type": "stream",
     "text": [
      "Total labels: 15\n",
      "0: ประมง\n",
      "1: มนุษยศาสตร์\n",
      "2: วนศาสตร์\n",
      "3: วิทยาศาสตร์\n",
      "4: วิทยาศาสตร์การกีฬา\n",
      "5: วิศวกรรมศาสตร์ กำแพงแสน\n",
      "6: ศึกษาศาสตร์\n",
      "7: สังคมศาสตร์\n",
      "8: สัตวแพทยศาสตร์\n",
      "9: สิ่งแวดล้อม\n",
      "10: อุตสาหกรรมเกษตร\n",
      "11: เกษตร\n",
      "12: เกษตร กำแพงแสน\n",
      "13: เศรษฐศาสตร์\n",
      "14: โครงการสหวิทยาการระดับบัณฑิตศึกษา\n"
     ]
    }
   ],
   "source": [
    "doc_labels_idx = {} # maps label name to its corresponding index\n",
    "print 'Total labels:', len(doc_labels)\n",
    "for i, label in enumerate(doc_labels):\n",
    "    doc_labels_idx[label] = i\n",
    "    print \"%d: %s\" % (i, label)"
   ]
  },
  {
   "cell_type": "code",
   "execution_count": null,
   "metadata": {
    "collapsed": false
   },
   "outputs": [],
   "source": []
  }
 ],
 "metadata": {
  "kernelspec": {
   "display_name": "Python 2",
   "language": "python",
   "name": "python2"
  },
  "language_info": {
   "codemirror_mode": {
    "name": "ipython",
    "version": 2
   },
   "file_extension": ".py",
   "mimetype": "text/x-python",
   "name": "python",
   "nbconvert_exporter": "python",
   "pygments_lexer": "ipython2",
   "version": "2.7.11"
  }
 },
 "nbformat": 4,
 "nbformat_minor": 0
}
