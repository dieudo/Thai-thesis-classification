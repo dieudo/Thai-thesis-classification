{
 "cells": [
  {
   "cell_type": "code",
   "execution_count": 49,
   "metadata": {
    "collapsed": true
   },
   "outputs": [],
   "source": [
    "import os\n",
    "import joblib\n",
    "from utils import pretty_trim, simple_split\n",
    "from collections import Counter\n",
    "from scipy.sparse import vstack\n",
    "import numpy as np"
   ]
  },
  {
   "cell_type": "markdown",
   "metadata": {},
   "source": [
    "** Loading trained models **"
   ]
  },
  {
   "cell_type": "code",
   "execution_count": 63,
   "metadata": {
    "collapsed": false
   },
   "outputs": [
    {
     "name": "stdout",
     "output_type": "stream",
     "text": [
      "Wall time: 3.59 s\n"
     ]
    }
   ],
   "source": [
    "%%time\n",
    "filename = 'models_persistence/pickle_models'\n",
    "(pretty_trim, counter, tfidf, rfe, clfs) = joblib.load(filename)"
   ]
  },
  {
   "cell_type": "code",
   "execution_count": 19,
   "metadata": {
    "collapsed": false
   },
   "outputs": [
    {
     "name": "stdout",
     "output_type": "stream",
     "text": [
      "Wall time: 1.66 s\n"
     ]
    }
   ],
   "source": [
    "%%time\n",
    "filename = 'models_persistence/final_dataset'\n",
    "(X_train_final, y_train, X_test_final, y_test) = joblib.load(filename)"
   ]
  },
  {
   "cell_type": "code",
   "execution_count": 62,
   "metadata": {
    "collapsed": false
   },
   "outputs": [],
   "source": [
    "# # refitting on the whole dataset\n",
    "# X_old, y_old = vstack([X_train_final, X_test_final]), np.concatenate([y_train, y_test])\n",
    "# clf.fit(X_old, y_old)"
   ]
  },
  {
   "cell_type": "code",
   "execution_count": 64,
   "metadata": {
    "collapsed": false
   },
   "outputs": [
    {
     "name": "stdout",
     "output_type": "stream",
     "text": [
      "score: 0.927450980392\n",
      "confidence: 0.73368627451 0.220944806363 0.16 1.0\n"
     ]
    }
   ],
   "source": [
    "clf = clfs[0]\n",
    "print 'score:', clf.score(X_test_final, y_test)\n",
    "proba = clf.predict_proba(X_test_final)\n",
    "confidence = proba.max(1)\n",
    "print 'confidence:', confidence.mean(), confidence.std(), confidence.min(), confidence.max()"
   ]
  },
  {
   "cell_type": "markdown",
   "metadata": {},
   "source": [
    "** Read segmented docs **"
   ]
  },
  {
   "cell_type": "code",
   "execution_count": 7,
   "metadata": {
    "collapsed": false
   },
   "outputs": [
    {
     "name": "stdout",
     "output_type": "stream",
     "text": [
      "total files: 2165\n",
      "Wall time: 394 ms\n"
     ]
    }
   ],
   "source": [
    "%%time\n",
    "doc_path = u'./corpus/segmented-journal' # must be a segmented doc path\n",
    "dataset_contents = []\n",
    "for filename in os.listdir(doc_path):\n",
    "    path = os.path.join(doc_path, filename)\n",
    "    with open(path) as f:\n",
    "        content = f.read().decode('utf8')\n",
    "        dataset_contents.append(content)\n",
    "print 'total files:', len(dataset_contents)"
   ]
  },
  {
   "cell_type": "markdown",
   "metadata": {},
   "source": [
    "# Apply learning pipeline to all the docs\n",
    "First trim"
   ]
  },
  {
   "cell_type": "code",
   "execution_count": 22,
   "metadata": {
    "collapsed": false
   },
   "outputs": [
    {
     "name": "stdout",
     "output_type": "stream",
     "text": [
      "Wall time: 5.57 s\n"
     ]
    }
   ],
   "source": [
    "%%time\n",
    "for i in xrange(len(dataset_contents)):\n",
    "    dataset_contents[i] = pretty_trim(dataset_contents[i])"
   ]
  },
  {
   "cell_type": "markdown",
   "metadata": {},
   "source": [
    "Then count words and apply Tf-idf"
   ]
  },
  {
   "cell_type": "code",
   "execution_count": 26,
   "metadata": {
    "collapsed": false
   },
   "outputs": [
    {
     "name": "stdout",
     "output_type": "stream",
     "text": [
      "Wall time: 17.3 s\n",
      "Wall time: 200 ms\n",
      "(2165, 250000)\n"
     ]
    }
   ],
   "source": [
    "%time X_new_count = counter.transform(dataset_contents)\n",
    "%time X_new_tfidf = tfidf.transform(X_new_count)\n",
    "print X_new_tfidf.shape"
   ]
  },
  {
   "cell_type": "markdown",
   "metadata": {},
   "source": [
    "Remove some features"
   ]
  },
  {
   "cell_type": "code",
   "execution_count": 27,
   "metadata": {
    "collapsed": false
   },
   "outputs": [
    {
     "name": "stdout",
     "output_type": "stream",
     "text": [
      "Wall time: 82 ms\n",
      "(2165, 20000)\n"
     ]
    }
   ],
   "source": [
    "%time X_new_rfe = rfe.transform(X_new_tfidf)\n",
    "print X_new_rfe.shape"
   ]
  },
  {
   "cell_type": "markdown",
   "metadata": {},
   "source": [
    "Predict using trained models"
   ]
  },
  {
   "cell_type": "code",
   "execution_count": 65,
   "metadata": {
    "collapsed": false
   },
   "outputs": [
    {
     "data": {
      "text/plain": [
       "Counter({0: 1,\n",
       "         2: 1,\n",
       "         3: 1,\n",
       "         5: 1322,\n",
       "         7: 15,\n",
       "         9: 32,\n",
       "         12: 2,\n",
       "         15: 192,\n",
       "         16: 575,\n",
       "         17: 17,\n",
       "         19: 7})"
      ]
     },
     "execution_count": 65,
     "metadata": {},
     "output_type": "execute_result"
    }
   ],
   "source": [
    "y_pred = clf.predict(X_new_rfe)\n",
    "Counter(y_pred)"
   ]
  },
  {
   "cell_type": "code",
   "execution_count": 66,
   "metadata": {
    "collapsed": false
   },
   "outputs": [
    {
     "name": "stdout",
     "output_type": "stream",
     "text": [
      "confidence: 0.457131639723 0.130549181945 0.13 0.92\n"
     ]
    }
   ],
   "source": [
    "proba = clf.predict_proba(X_new_rfe)\n",
    "confidence = proba.max(1)\n",
    "print 'confidence:', confidence.mean(), confidence.std(), confidence.min(), confidence.max()"
   ]
  }
 ],
 "metadata": {
  "kernelspec": {
   "display_name": "Python 2",
   "language": "python",
   "name": "python2"
  },
  "language_info": {
   "codemirror_mode": {
    "name": "ipython",
    "version": 2
   },
   "file_extension": ".py",
   "mimetype": "text/x-python",
   "name": "python",
   "nbconvert_exporter": "python",
   "pygments_lexer": "ipython2",
   "version": "2.7.11"
  }
 },
 "nbformat": 4,
 "nbformat_minor": 0
}
